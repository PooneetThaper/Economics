{
 "cells": [
  {
   "cell_type": "code",
   "execution_count": 1,
   "metadata": {},
   "outputs": [],
   "source": [
    "import pandas as pd\n",
    "import numpy as np\n",
    "import matplotlib.pyplot as plt\n",
    "import seaborn as sns\n",
    "sns.set()"
   ]
  },
  {
   "cell_type": "code",
   "execution_count": 16,
   "metadata": {},
   "outputs": [
    {
     "name": "stdout",
     "output_type": "stream",
     "text": [
      "    Quantity of Product A  Quantity of Product B\n",
      "0                     0.0                   5.00\n",
      "1                     0.5                   4.75\n",
      "2                     1.0                   4.50\n",
      "3                     1.5                   4.25\n",
      "4                     2.0                   4.00\n",
      "5                     2.5                   3.75\n",
      "6                     3.0                   3.50\n",
      "7                     3.5                   3.25\n",
      "8                     4.0                   3.00\n",
      "9                     4.5                   2.75\n",
      "10                    5.0                   2.50\n",
      "11                    5.5                   2.25\n",
      "12                    6.0                   2.00\n",
      "13                    6.5                   1.75\n",
      "14                    7.0                   1.50\n",
      "15                    7.5                   1.25\n",
      "16                    8.0                   1.00\n",
      "17                    8.5                   0.75\n",
      "18                    9.0                   0.50\n",
      "19                    9.5                   0.25\n",
      "20                   10.0                   0.00\n",
      "21                   10.5                  -0.25\n"
     ]
    }
   ],
   "source": [
    "Income = 200\n",
    "Pa = 20\n",
    "Pb = 40\n",
    "Qa = np.arange(0,11,0.5)\n",
    "Qb = ((Income)/(Pb)) - ((Pa*Qa)/(Pb))\n",
    "df = pd.DataFrame(list(zip(Qa,Qb)), columns=['Quantity of Product A', 'Quantity of Product B'])\n",
    "print(df)"
   ]
  },
  {
   "cell_type": "code",
   "execution_count": 3,
   "metadata": {},
   "outputs": [
    {
     "data": {
      "image/png": "[encoded data removed]",
      "text/plain": [
       "<Figure size 432x288 with 1 Axes>"
      ]
     },
     "metadata": {},
     "output_type": "display_data"
    }
   ],
   "source": [
    "plt.plot(df['Quantity of Product A'], df['Quantity of Product B'])\n",
    "plt.xlabel('Quantity of Product A')\n",
    "plt.ylabel('Quantity of Product B')\n",
    "plt.legend(['Budget Line'])\n",
    "plt.show()"
   ]
  },
  {
   "cell_type": "code",
   "execution_count": 4,
   "metadata": {},
   "outputs": [
    {
     "name": "stdout",
     "output_type": "stream",
     "text": [
      "    Quantity of Product A  Quantity of Product B  Indifference Curve\n",
      "0                     0.0                   5.00                 inf\n",
      "1                     0.5                   4.75           25.000000\n",
      "2                     1.0                   4.50           12.500000\n",
      "3                     1.5                   4.25            8.333333\n",
      "4                     2.0                   4.00            6.250000\n",
      "5                     2.5                   3.75            5.000000\n",
      "6                     3.0                   3.50            4.166667\n",
      "7                     3.5                   3.25            3.571429\n",
      "8                     4.0                   3.00            3.125000\n",
      "9                     4.5                   2.75            2.777778\n",
      "10                    5.0                   2.50            2.500000\n",
      "11                    5.5                   2.25            2.272727\n",
      "12                    6.0                   2.00            2.083333\n",
      "13                    6.5                   1.75            1.923077\n",
      "14                    7.0                   1.50            1.785714\n",
      "15                    7.5                   1.25            1.666667\n",
      "16                    8.0                   1.00            1.562500\n",
      "17                    8.5                   0.75            1.470588\n",
      "18                    9.0                   0.50            1.388889\n",
      "19                    9.5                   0.25            1.315789\n",
      "20                   10.0                   0.00            1.250000\n",
      "21                   10.5                  -0.25            1.190476\n"
     ]
    }
   ],
   "source": [
    "x = np.arange(1, 10.1, 0.1)\n",
    "indifference_curve = lambda x: 25/(2*x)\n",
    "df['Indifference Curve'] = indifference_curve(df['Quantity of Product A'])\n",
    "print(df)"
   ]
  },
  {
   "cell_type": "code",
   "execution_count": 17,
   "metadata": {},
   "outputs": [
    {
     "ename": "AttributeError",
     "evalue": "'AxesSubplot' object has no attribute 'xlabel'",
     "output_type": "error",
     "traceback": [
      "\u001b[0;31m---------------------------------------------------------------------------\u001b[0m",
      "\u001b[0;31mAttributeError\u001b[0m                            Traceback (most recent call last)",
      "\u001b[0;32m<ipython-input-17-ce80b1de1f1d>\u001b[0m in \u001b[0;36m<module>\u001b[0;34m()\u001b[0m\n\u001b[1;32m      3\u001b[0m \u001b[0max\u001b[0m\u001b[0;34m[\u001b[0m\u001b[0;36m0\u001b[0m\u001b[0;34m]\u001b[0m\u001b[0;34m.\u001b[0m\u001b[0mplot\u001b[0m\u001b[0;34m(\u001b[0m\u001b[0mdf\u001b[0m\u001b[0;34m[\u001b[0m\u001b[0;34m'Quantity of Product A'\u001b[0m\u001b[0;34m]\u001b[0m\u001b[0;34m,\u001b[0m \u001b[0mdf\u001b[0m\u001b[0;34m[\u001b[0m\u001b[0;34m'Quantity of Product B'\u001b[0m\u001b[0;34m]\u001b[0m\u001b[0;34m)\u001b[0m\u001b[0;34m\u001b[0m\u001b[0m\n\u001b[1;32m      4\u001b[0m \u001b[0max\u001b[0m\u001b[0;34m[\u001b[0m\u001b[0;36m0\u001b[0m\u001b[0;34m]\u001b[0m\u001b[0;34m.\u001b[0m\u001b[0mscatter\u001b[0m\u001b[0;34m(\u001b[0m\u001b[0;34m[\u001b[0m\u001b[0;36m5\u001b[0m\u001b[0;34m]\u001b[0m\u001b[0;34m,\u001b[0m\u001b[0mindifference_curve\u001b[0m\u001b[0;34m(\u001b[0m\u001b[0;36m5\u001b[0m\u001b[0;34m)\u001b[0m\u001b[0;34m,\u001b[0m \u001b[0mmarker\u001b[0m\u001b[0;34m=\u001b[0m\u001b[0;34m'x'\u001b[0m\u001b[0;34m)\u001b[0m\u001b[0;34m\u001b[0m\u001b[0m\n\u001b[0;32m----> 5\u001b[0;31m \u001b[0max\u001b[0m\u001b[0;34m[\u001b[0m\u001b[0;36m0\u001b[0m\u001b[0;34m]\u001b[0m\u001b[0;34m.\u001b[0m\u001b[0mxlabel\u001b[0m\u001b[0;34m(\u001b[0m\u001b[0;34m'Quantity of Product A'\u001b[0m\u001b[0;34m)\u001b[0m\u001b[0;34m\u001b[0m\u001b[0m\n\u001b[0m\u001b[1;32m      6\u001b[0m \u001b[0max\u001b[0m\u001b[0;34m[\u001b[0m\u001b[0;36m0\u001b[0m\u001b[0;34m]\u001b[0m\u001b[0;34m.\u001b[0m\u001b[0mylabel\u001b[0m\u001b[0;34m(\u001b[0m\u001b[0;34m'Quantity of Product B'\u001b[0m\u001b[0;34m)\u001b[0m\u001b[0;34m\u001b[0m\u001b[0m\n\u001b[1;32m      7\u001b[0m \u001b[0max\u001b[0m\u001b[0;34m[\u001b[0m\u001b[0;36m0\u001b[0m\u001b[0;34m]\u001b[0m\u001b[0;34m.\u001b[0m\u001b[0mlegend\u001b[0m\u001b[0;34m(\u001b[0m\u001b[0;34m[\u001b[0m\u001b[0;34m'Indifference Curve'\u001b[0m\u001b[0;34m,\u001b[0m \u001b[0;34m'Budget Line'\u001b[0m\u001b[0;34m,\u001b[0m \u001b[0;34m'Equilibrium point (Qa = 5, Qb = 2.5)'\u001b[0m\u001b[0;34m]\u001b[0m\u001b[0;34m)\u001b[0m\u001b[0;34m\u001b[0m\u001b[0m\n",
      "\u001b[0;31mAttributeError\u001b[0m: 'AxesSubplot' object has no attribute 'xlabel'"
     ]
    },
    {
     "data": {
      "image/png": "[encoded data removed]",
      "text/plain": [
       "<Figure size 432x288 with 2 Axes>"
      ]
     },
     "metadata": {},
     "output_type": "display_data"
    }
   ],
   "source": [
    "fig, ax = plt.subplots(ncols=2, nrows=1)\n",
    "ax[0].plot(x, indifference_curve(x))\n",
    "ax[0].plot(df['Quantity of Product A'], df['Quantity of Product B'])\n",
    "ax[0].scatter([5],indifference_curve(5), marker='x')\n",
    "ax[0].xlabel('Quantity of Product A')\n",
    "ax[0].ylabel('Quantity of Product B')\n",
    "ax[0].legend(['Indifference Curve', 'Budget Line', 'Equilibrium point (Qa = 5, Qb = 2.5)'])\n",
    "\n",
    "ax[1].plot(x, indifference_curve(x))\n",
    "ax[1].plot(df['Quantity of Product A'], df['Quantity of Product B'])\n",
    "ax[1].scatter([5],indifference_curve(5), marker='x')\n",
    "ax[1].set_xlabel('Quantity of Product A')\n",
    "ax[1].set_ylabel('Quantity of Product B')\n",
    "ax[1].legend(['Indifference Curve', 'Budget Line', 'Equilibrium point (Qa = 5, Qb = 2.5)'])\n",
    "ax[1].set_ylim(2,3)\n",
    "ax[1].set_xlim(4,6)\n",
    "plt.show()"
   ]
  },
  {
   "cell_type": "code",
   "execution_count": null,
   "metadata": {},
   "outputs": [],
   "source": []
  }
 ],
 "metadata": {
  "kernelspec": {
   "display_name": "Python 3",
   "language": "python",
   "name": "python3"
  },
  "language_info": {
   "codemirror_mode": {
    "name": "ipython",
    "version": 3
   },
   "file_extension": ".py",
   "mimetype": "text/x-python",
   "name": "python",
   "nbconvert_exporter": "python",
   "pygments_lexer": "ipython3",
   "version": "3.6.4"
  }
 },
 "nbformat": 4,
 "nbformat_minor": 2
}
